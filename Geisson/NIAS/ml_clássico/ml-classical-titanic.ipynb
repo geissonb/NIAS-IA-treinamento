{
 "cells": [
  {
   "cell_type": "code",
   "execution_count": 1,
   "id": "372be811",
   "metadata": {
    "_cell_guid": "b1076dfc-b9ad-4769-8c92-a6c4dae69d19",
    "_uuid": "8f2839f25d086af736a60e9eeb907d3b93b6e0e5",
    "execution": {
     "iopub.execute_input": "2025-10-08T00:52:12.259219Z",
     "iopub.status.busy": "2025-10-08T00:52:12.258772Z",
     "iopub.status.idle": "2025-10-08T00:52:14.263390Z",
     "shell.execute_reply": "2025-10-08T00:52:14.262129Z"
    },
    "papermill": {
     "duration": 2.014788,
     "end_time": "2025-10-08T00:52:14.265227",
     "exception": false,
     "start_time": "2025-10-08T00:52:12.250439",
     "status": "completed"
    },
    "tags": []
   },
   "outputs": [
    {
     "name": "stdout",
     "output_type": "stream",
     "text": [
      "/kaggle/input/titanic/train.csv\n",
      "/kaggle/input/titanic/test.csv\n",
      "/kaggle/input/titanic/gender_submission.csv\n"
     ]
    }
   ],
   "source": [
    "# This Python 3 environment comes with many helpful analytics libraries installed\n",
    "# It is defined by the kaggle/python Docker image: https://github.com/kaggle/docker-python\n",
    "# For example, here's several helpful packages to load\n",
    "\n",
    "import numpy as np # linear algebra\n",
    "import pandas as pd # data processing, CSV file I/O (e.g. pd.read_csv)\n",
    "\n",
    "# Input data files are available in the read-only \"../input/\" directory\n",
    "# For example, running this (by clicking run or pressing Shift+Enter) will list all files under the input directory\n",
    "\n",
    "import os\n",
    "for dirname, _, filenames in os.walk('/kaggle/input'):\n",
    "    for filename in filenames:\n",
    "        print(os.path.join(dirname, filename))\n",
    "\n",
    "# You can write up to 20GB to the current directory (/kaggle/working/) that gets preserved as output when you create a version using \"Save & Run All\" \n",
    "# You can also write temporary files to /kaggle/temp/, but they won't be saved outside of the current session"
   ]
  },
  {
   "cell_type": "code",
   "execution_count": 2,
   "id": "c2915f19",
   "metadata": {
    "execution": {
     "iopub.execute_input": "2025-10-08T00:52:14.278991Z",
     "iopub.status.busy": "2025-10-08T00:52:14.278525Z",
     "iopub.status.idle": "2025-10-08T00:52:16.427919Z",
     "shell.execute_reply": "2025-10-08T00:52:16.426890Z"
    },
    "papermill": {
     "duration": 2.157953,
     "end_time": "2025-10-08T00:52:16.430016",
     "exception": false,
     "start_time": "2025-10-08T00:52:14.272063",
     "status": "completed"
    },
    "tags": []
   },
   "outputs": [],
   "source": [
    "import numpy as np\n",
    "\n",
    "%matplotlib inline\n",
    "import matplotlib as mpl\n",
    "import matplotlib.pyplot as plt\n",
    "import seaborn as sns\n",
    "import pandas as pd"
   ]
  },
  {
   "cell_type": "code",
   "execution_count": 3,
   "id": "2f0ad713",
   "metadata": {
    "execution": {
     "iopub.execute_input": "2025-10-08T00:52:16.442372Z",
     "iopub.status.busy": "2025-10-08T00:52:16.441899Z",
     "iopub.status.idle": "2025-10-08T00:52:16.479651Z",
     "shell.execute_reply": "2025-10-08T00:52:16.478600Z"
    },
    "papermill": {
     "duration": 0.045876,
     "end_time": "2025-10-08T00:52:16.481406",
     "exception": false,
     "start_time": "2025-10-08T00:52:16.435530",
     "status": "completed"
    },
    "tags": []
   },
   "outputs": [],
   "source": [
    "df_train = pd.read_csv('/kaggle/input/titanic/train.csv')\n",
    "df_test = pd.read_csv('/kaggle/input/titanic/test.csv')"
   ]
  },
  {
   "cell_type": "code",
   "execution_count": 4,
   "id": "69a25e26",
   "metadata": {
    "execution": {
     "iopub.execute_input": "2025-10-08T00:52:16.494434Z",
     "iopub.status.busy": "2025-10-08T00:52:16.493673Z",
     "iopub.status.idle": "2025-10-08T00:52:16.535353Z",
     "shell.execute_reply": "2025-10-08T00:52:16.534088Z"
    },
    "papermill": {
     "duration": 0.050959,
     "end_time": "2025-10-08T00:52:16.538325",
     "exception": false,
     "start_time": "2025-10-08T00:52:16.487366",
     "status": "completed"
    },
    "tags": []
   },
   "outputs": [
    {
     "name": "stdout",
     "output_type": "stream",
     "text": [
      "<class 'pandas.core.frame.DataFrame'>\n",
      "RangeIndex: 891 entries, 0 to 890\n",
      "Data columns (total 12 columns):\n",
      " #   Column       Non-Null Count  Dtype  \n",
      "---  ------       --------------  -----  \n",
      " 0   PassengerId  891 non-null    int64  \n",
      " 1   Survived     891 non-null    int64  \n",
      " 2   Pclass       891 non-null    int64  \n",
      " 3   Name         891 non-null    object \n",
      " 4   Sex          891 non-null    object \n",
      " 5   Age          714 non-null    float64\n",
      " 6   SibSp        891 non-null    int64  \n",
      " 7   Parch        891 non-null    int64  \n",
      " 8   Ticket       891 non-null    object \n",
      " 9   Fare         891 non-null    float64\n",
      " 10  Cabin        204 non-null    object \n",
      " 11  Embarked     889 non-null    object \n",
      "dtypes: float64(2), int64(5), object(5)\n",
      "memory usage: 83.7+ KB\n",
      "--------------------------------------------------\n",
      "<class 'pandas.core.frame.DataFrame'>\n",
      "RangeIndex: 418 entries, 0 to 417\n",
      "Data columns (total 11 columns):\n",
      " #   Column       Non-Null Count  Dtype  \n",
      "---  ------       --------------  -----  \n",
      " 0   PassengerId  418 non-null    int64  \n",
      " 1   Pclass       418 non-null    int64  \n",
      " 2   Name         418 non-null    object \n",
      " 3   Sex          418 non-null    object \n",
      " 4   Age          332 non-null    float64\n",
      " 5   SibSp        418 non-null    int64  \n",
      " 6   Parch        418 non-null    int64  \n",
      " 7   Ticket       418 non-null    object \n",
      " 8   Fare         417 non-null    float64\n",
      " 9   Cabin        91 non-null     object \n",
      " 10  Embarked     418 non-null    object \n",
      "dtypes: float64(2), int64(4), object(5)\n",
      "memory usage: 36.1+ KB\n"
     ]
    }
   ],
   "source": [
    "df_train.info()\n",
    "print('-' * 50)\n",
    "df_test.info()"
   ]
  },
  {
   "cell_type": "code",
   "execution_count": 5,
   "id": "39dc736b",
   "metadata": {
    "execution": {
     "iopub.execute_input": "2025-10-08T00:52:16.551548Z",
     "iopub.status.busy": "2025-10-08T00:52:16.551223Z",
     "iopub.status.idle": "2025-10-08T00:52:16.562023Z",
     "shell.execute_reply": "2025-10-08T00:52:16.560411Z"
    },
    "papermill": {
     "duration": 0.01902,
     "end_time": "2025-10-08T00:52:16.563684",
     "exception": false,
     "start_time": "2025-10-08T00:52:16.544664",
     "status": "completed"
    },
    "tags": []
   },
   "outputs": [
    {
     "data": {
      "text/plain": [
       "PassengerId      0\n",
       "Survived         0\n",
       "Pclass           0\n",
       "Name             0\n",
       "Sex              0\n",
       "Age            177\n",
       "SibSp            0\n",
       "Parch            0\n",
       "Ticket           0\n",
       "Fare             0\n",
       "Cabin          687\n",
       "Embarked         2\n",
       "dtype: int64"
      ]
     },
     "execution_count": 5,
     "metadata": {},
     "output_type": "execute_result"
    }
   ],
   "source": [
    "df_train.isna().sum()"
   ]
  },
  {
   "cell_type": "code",
   "execution_count": 6,
   "id": "d5fa1427",
   "metadata": {
    "execution": {
     "iopub.execute_input": "2025-10-08T00:52:16.575925Z",
     "iopub.status.busy": "2025-10-08T00:52:16.575559Z",
     "iopub.status.idle": "2025-10-08T00:52:16.584221Z",
     "shell.execute_reply": "2025-10-08T00:52:16.583189Z"
    },
    "papermill": {
     "duration": 0.017342,
     "end_time": "2025-10-08T00:52:16.586607",
     "exception": false,
     "start_time": "2025-10-08T00:52:16.569265",
     "status": "completed"
    },
    "tags": []
   },
   "outputs": [
    {
     "data": {
      "text/plain": [
       "PassengerId      0\n",
       "Pclass           0\n",
       "Name             0\n",
       "Sex              0\n",
       "Age             86\n",
       "SibSp            0\n",
       "Parch            0\n",
       "Ticket           0\n",
       "Fare             1\n",
       "Cabin          327\n",
       "Embarked         0\n",
       "dtype: int64"
      ]
     },
     "execution_count": 6,
     "metadata": {},
     "output_type": "execute_result"
    }
   ],
   "source": [
    "df_test.isna().sum()"
   ]
  },
  {
   "cell_type": "code",
   "execution_count": 7,
   "id": "e2e8b795",
   "metadata": {
    "execution": {
     "iopub.execute_input": "2025-10-08T00:52:16.600282Z",
     "iopub.status.busy": "2025-10-08T00:52:16.599837Z",
     "iopub.status.idle": "2025-10-08T00:52:16.611196Z",
     "shell.execute_reply": "2025-10-08T00:52:16.610176Z"
    },
    "papermill": {
     "duration": 0.020119,
     "end_time": "2025-10-08T00:52:16.612896",
     "exception": false,
     "start_time": "2025-10-08T00:52:16.592777",
     "status": "completed"
    },
    "tags": []
   },
   "outputs": [],
   "source": [
    "df_train = df_train.dropna(subset=['Embarked'])"
   ]
  },
  {
   "cell_type": "code",
   "execution_count": 8,
   "id": "c5cf392b",
   "metadata": {
    "execution": {
     "iopub.execute_input": "2025-10-08T00:52:16.625663Z",
     "iopub.status.busy": "2025-10-08T00:52:16.625335Z",
     "iopub.status.idle": "2025-10-08T00:52:16.631041Z",
     "shell.execute_reply": "2025-10-08T00:52:16.630090Z"
    },
    "papermill": {
     "duration": 0.014508,
     "end_time": "2025-10-08T00:52:16.632959",
     "exception": false,
     "start_time": "2025-10-08T00:52:16.618451",
     "status": "completed"
    },
    "tags": []
   },
   "outputs": [],
   "source": [
    "test_clean = df_test.copy()\n",
    "train_clean = df_train.copy()"
   ]
  },
  {
   "cell_type": "code",
   "execution_count": 9,
   "id": "d9c36ee3",
   "metadata": {
    "execution": {
     "iopub.execute_input": "2025-10-08T00:52:16.645863Z",
     "iopub.status.busy": "2025-10-08T00:52:16.645504Z",
     "iopub.status.idle": "2025-10-08T00:52:16.672554Z",
     "shell.execute_reply": "2025-10-08T00:52:16.671274Z"
    },
    "papermill": {
     "duration": 0.035397,
     "end_time": "2025-10-08T00:52:16.674255",
     "exception": false,
     "start_time": "2025-10-08T00:52:16.638858",
     "status": "completed"
    },
    "tags": []
   },
   "outputs": [
    {
     "data": {
      "text/html": [
       "<div>\n",
       "<style scoped>\n",
       "    .dataframe tbody tr th:only-of-type {\n",
       "        vertical-align: middle;\n",
       "    }\n",
       "\n",
       "    .dataframe tbody tr th {\n",
       "        vertical-align: top;\n",
       "    }\n",
       "\n",
       "    .dataframe thead th {\n",
       "        text-align: right;\n",
       "    }\n",
       "</style>\n",
       "<table border=\"1\" class=\"dataframe\">\n",
       "  <thead>\n",
       "    <tr style=\"text-align: right;\">\n",
       "      <th></th>\n",
       "      <th>PassengerId</th>\n",
       "      <th>Pclass</th>\n",
       "      <th>Name</th>\n",
       "      <th>Sex</th>\n",
       "      <th>Age</th>\n",
       "      <th>SibSp</th>\n",
       "      <th>Parch</th>\n",
       "      <th>Fare</th>\n",
       "      <th>Embarked</th>\n",
       "    </tr>\n",
       "  </thead>\n",
       "  <tbody>\n",
       "    <tr>\n",
       "      <th>0</th>\n",
       "      <td>892</td>\n",
       "      <td>3</td>\n",
       "      <td>Kelly, Mr. James</td>\n",
       "      <td>male</td>\n",
       "      <td>34.5</td>\n",
       "      <td>0</td>\n",
       "      <td>0</td>\n",
       "      <td>7.8292</td>\n",
       "      <td>Q</td>\n",
       "    </tr>\n",
       "    <tr>\n",
       "      <th>1</th>\n",
       "      <td>893</td>\n",
       "      <td>3</td>\n",
       "      <td>Wilkes, Mrs. James (Ellen Needs)</td>\n",
       "      <td>female</td>\n",
       "      <td>47.0</td>\n",
       "      <td>1</td>\n",
       "      <td>0</td>\n",
       "      <td>7.0000</td>\n",
       "      <td>S</td>\n",
       "    </tr>\n",
       "    <tr>\n",
       "      <th>2</th>\n",
       "      <td>894</td>\n",
       "      <td>2</td>\n",
       "      <td>Myles, Mr. Thomas Francis</td>\n",
       "      <td>male</td>\n",
       "      <td>62.0</td>\n",
       "      <td>0</td>\n",
       "      <td>0</td>\n",
       "      <td>9.6875</td>\n",
       "      <td>Q</td>\n",
       "    </tr>\n",
       "    <tr>\n",
       "      <th>3</th>\n",
       "      <td>895</td>\n",
       "      <td>3</td>\n",
       "      <td>Wirz, Mr. Albert</td>\n",
       "      <td>male</td>\n",
       "      <td>27.0</td>\n",
       "      <td>0</td>\n",
       "      <td>0</td>\n",
       "      <td>8.6625</td>\n",
       "      <td>S</td>\n",
       "    </tr>\n",
       "    <tr>\n",
       "      <th>4</th>\n",
       "      <td>896</td>\n",
       "      <td>3</td>\n",
       "      <td>Hirvonen, Mrs. Alexander (Helga E Lindqvist)</td>\n",
       "      <td>female</td>\n",
       "      <td>22.0</td>\n",
       "      <td>1</td>\n",
       "      <td>1</td>\n",
       "      <td>12.2875</td>\n",
       "      <td>S</td>\n",
       "    </tr>\n",
       "  </tbody>\n",
       "</table>\n",
       "</div>"
      ],
      "text/plain": [
       "   PassengerId  Pclass                                          Name     Sex  \\\n",
       "0          892       3                              Kelly, Mr. James    male   \n",
       "1          893       3              Wilkes, Mrs. James (Ellen Needs)  female   \n",
       "2          894       2                     Myles, Mr. Thomas Francis    male   \n",
       "3          895       3                              Wirz, Mr. Albert    male   \n",
       "4          896       3  Hirvonen, Mrs. Alexander (Helga E Lindqvist)  female   \n",
       "\n",
       "    Age  SibSp  Parch     Fare Embarked  \n",
       "0  34.5      0      0   7.8292        Q  \n",
       "1  47.0      1      0   7.0000        S  \n",
       "2  62.0      0      0   9.6875        Q  \n",
       "3  27.0      0      0   8.6625        S  \n",
       "4  22.0      1      1  12.2875        S  "
      ]
     },
     "execution_count": 9,
     "metadata": {},
     "output_type": "execute_result"
    }
   ],
   "source": [
    "test_clean = test_clean[['PassengerId', 'Pclass', 'Name', 'Sex', 'Age', 'SibSp', 'Parch', 'Fare', 'Embarked']]\n",
    "test_clean.head()"
   ]
  },
  {
   "cell_type": "code",
   "execution_count": 10,
   "id": "b5035adb",
   "metadata": {
    "execution": {
     "iopub.execute_input": "2025-10-08T00:52:16.687372Z",
     "iopub.status.busy": "2025-10-08T00:52:16.687074Z",
     "iopub.status.idle": "2025-10-08T00:52:16.701718Z",
     "shell.execute_reply": "2025-10-08T00:52:16.700797Z"
    },
    "papermill": {
     "duration": 0.022898,
     "end_time": "2025-10-08T00:52:16.703369",
     "exception": false,
     "start_time": "2025-10-08T00:52:16.680471",
     "status": "completed"
    },
    "tags": []
   },
   "outputs": [
    {
     "data": {
      "text/html": [
       "<div>\n",
       "<style scoped>\n",
       "    .dataframe tbody tr th:only-of-type {\n",
       "        vertical-align: middle;\n",
       "    }\n",
       "\n",
       "    .dataframe tbody tr th {\n",
       "        vertical-align: top;\n",
       "    }\n",
       "\n",
       "    .dataframe thead th {\n",
       "        text-align: right;\n",
       "    }\n",
       "</style>\n",
       "<table border=\"1\" class=\"dataframe\">\n",
       "  <thead>\n",
       "    <tr style=\"text-align: right;\">\n",
       "      <th></th>\n",
       "      <th>PassengerId</th>\n",
       "      <th>Survived</th>\n",
       "      <th>Pclass</th>\n",
       "      <th>Name</th>\n",
       "      <th>Sex</th>\n",
       "      <th>Age</th>\n",
       "      <th>SibSp</th>\n",
       "      <th>Parch</th>\n",
       "      <th>Fare</th>\n",
       "      <th>Embarked</th>\n",
       "    </tr>\n",
       "  </thead>\n",
       "  <tbody>\n",
       "    <tr>\n",
       "      <th>0</th>\n",
       "      <td>1</td>\n",
       "      <td>0</td>\n",
       "      <td>3</td>\n",
       "      <td>Braund, Mr. Owen Harris</td>\n",
       "      <td>male</td>\n",
       "      <td>22.0</td>\n",
       "      <td>1</td>\n",
       "      <td>0</td>\n",
       "      <td>7.2500</td>\n",
       "      <td>S</td>\n",
       "    </tr>\n",
       "    <tr>\n",
       "      <th>1</th>\n",
       "      <td>2</td>\n",
       "      <td>1</td>\n",
       "      <td>1</td>\n",
       "      <td>Cumings, Mrs. John Bradley (Florence Briggs Th...</td>\n",
       "      <td>female</td>\n",
       "      <td>38.0</td>\n",
       "      <td>1</td>\n",
       "      <td>0</td>\n",
       "      <td>71.2833</td>\n",
       "      <td>C</td>\n",
       "    </tr>\n",
       "    <tr>\n",
       "      <th>2</th>\n",
       "      <td>3</td>\n",
       "      <td>1</td>\n",
       "      <td>3</td>\n",
       "      <td>Heikkinen, Miss. Laina</td>\n",
       "      <td>female</td>\n",
       "      <td>26.0</td>\n",
       "      <td>0</td>\n",
       "      <td>0</td>\n",
       "      <td>7.9250</td>\n",
       "      <td>S</td>\n",
       "    </tr>\n",
       "    <tr>\n",
       "      <th>3</th>\n",
       "      <td>4</td>\n",
       "      <td>1</td>\n",
       "      <td>1</td>\n",
       "      <td>Futrelle, Mrs. Jacques Heath (Lily May Peel)</td>\n",
       "      <td>female</td>\n",
       "      <td>35.0</td>\n",
       "      <td>1</td>\n",
       "      <td>0</td>\n",
       "      <td>53.1000</td>\n",
       "      <td>S</td>\n",
       "    </tr>\n",
       "    <tr>\n",
       "      <th>4</th>\n",
       "      <td>5</td>\n",
       "      <td>0</td>\n",
       "      <td>3</td>\n",
       "      <td>Allen, Mr. William Henry</td>\n",
       "      <td>male</td>\n",
       "      <td>35.0</td>\n",
       "      <td>0</td>\n",
       "      <td>0</td>\n",
       "      <td>8.0500</td>\n",
       "      <td>S</td>\n",
       "    </tr>\n",
       "  </tbody>\n",
       "</table>\n",
       "</div>"
      ],
      "text/plain": [
       "   PassengerId  Survived  Pclass  \\\n",
       "0            1         0       3   \n",
       "1            2         1       1   \n",
       "2            3         1       3   \n",
       "3            4         1       1   \n",
       "4            5         0       3   \n",
       "\n",
       "                                                Name     Sex   Age  SibSp  \\\n",
       "0                            Braund, Mr. Owen Harris    male  22.0      1   \n",
       "1  Cumings, Mrs. John Bradley (Florence Briggs Th...  female  38.0      1   \n",
       "2                             Heikkinen, Miss. Laina  female  26.0      0   \n",
       "3       Futrelle, Mrs. Jacques Heath (Lily May Peel)  female  35.0      1   \n",
       "4                           Allen, Mr. William Henry    male  35.0      0   \n",
       "\n",
       "   Parch     Fare Embarked  \n",
       "0      0   7.2500        S  \n",
       "1      0  71.2833        C  \n",
       "2      0   7.9250        S  \n",
       "3      0  53.1000        S  \n",
       "4      0   8.0500        S  "
      ]
     },
     "execution_count": 10,
     "metadata": {},
     "output_type": "execute_result"
    }
   ],
   "source": [
    "train_clean = train_clean [['PassengerId', 'Survived', 'Pclass', 'Name', 'Sex', 'Age', 'SibSp', 'Parch', 'Fare', 'Embarked']]\n",
    "train_clean.head()"
   ]
  },
  {
   "cell_type": "code",
   "execution_count": 11,
   "id": "fe07646f",
   "metadata": {
    "execution": {
     "iopub.execute_input": "2025-10-08T00:52:16.716448Z",
     "iopub.status.busy": "2025-10-08T00:52:16.716150Z",
     "iopub.status.idle": "2025-10-08T00:52:16.722085Z",
     "shell.execute_reply": "2025-10-08T00:52:16.721029Z"
    },
    "papermill": {
     "duration": 0.014445,
     "end_time": "2025-10-08T00:52:16.723664",
     "exception": false,
     "start_time": "2025-10-08T00:52:16.709219",
     "status": "completed"
    },
    "tags": []
   },
   "outputs": [],
   "source": [
    "test_clean['Age'] = test_clean['Age'].fillna(test_clean['Age'].median())"
   ]
  },
  {
   "cell_type": "code",
   "execution_count": 12,
   "id": "796959e5",
   "metadata": {
    "execution": {
     "iopub.execute_input": "2025-10-08T00:52:16.737574Z",
     "iopub.status.busy": "2025-10-08T00:52:16.737241Z",
     "iopub.status.idle": "2025-10-08T00:52:16.743178Z",
     "shell.execute_reply": "2025-10-08T00:52:16.742240Z"
    },
    "papermill": {
     "duration": 0.015146,
     "end_time": "2025-10-08T00:52:16.744742",
     "exception": false,
     "start_time": "2025-10-08T00:52:16.729596",
     "status": "completed"
    },
    "tags": []
   },
   "outputs": [],
   "source": [
    "train_clean['Age'] = train_clean['Age'].fillna(train_clean['Age'].median())"
   ]
  },
  {
   "cell_type": "code",
   "execution_count": 13,
   "id": "2000876a",
   "metadata": {
    "execution": {
     "iopub.execute_input": "2025-10-08T00:52:16.757778Z",
     "iopub.status.busy": "2025-10-08T00:52:16.757463Z",
     "iopub.status.idle": "2025-10-08T00:52:16.763288Z",
     "shell.execute_reply": "2025-10-08T00:52:16.762251Z"
    },
    "papermill": {
     "duration": 0.014442,
     "end_time": "2025-10-08T00:52:16.765108",
     "exception": false,
     "start_time": "2025-10-08T00:52:16.750666",
     "status": "completed"
    },
    "tags": []
   },
   "outputs": [],
   "source": [
    "test_clean['Fare'] = test_clean['Fare'].fillna(test_clean['Fare'].median())"
   ]
  },
  {
   "cell_type": "code",
   "execution_count": 14,
   "id": "fe7e98f1",
   "metadata": {
    "execution": {
     "iopub.execute_input": "2025-10-08T00:52:16.778012Z",
     "iopub.status.busy": "2025-10-08T00:52:16.777664Z",
     "iopub.status.idle": "2025-10-08T00:52:16.783163Z",
     "shell.execute_reply": "2025-10-08T00:52:16.782177Z"
    },
    "papermill": {
     "duration": 0.013751,
     "end_time": "2025-10-08T00:52:16.784666",
     "exception": false,
     "start_time": "2025-10-08T00:52:16.770915",
     "status": "completed"
    },
    "tags": []
   },
   "outputs": [],
   "source": [
    "train_clean['Fare'] = train_clean['Fare'].fillna(train_clean['Fare'].median())"
   ]
  },
  {
   "cell_type": "code",
   "execution_count": 15,
   "id": "99547f46",
   "metadata": {
    "execution": {
     "iopub.execute_input": "2025-10-08T00:52:16.798317Z",
     "iopub.status.busy": "2025-10-08T00:52:16.797987Z",
     "iopub.status.idle": "2025-10-08T00:52:16.804503Z",
     "shell.execute_reply": "2025-10-08T00:52:16.803439Z"
    },
    "papermill": {
     "duration": 0.015572,
     "end_time": "2025-10-08T00:52:16.806280",
     "exception": false,
     "start_time": "2025-10-08T00:52:16.790708",
     "status": "completed"
    },
    "tags": []
   },
   "outputs": [],
   "source": [
    "test_clean['Embarked'] = test_clean['Embarked'].fillna(test_clean['Embarked'].mode())"
   ]
  },
  {
   "cell_type": "code",
   "execution_count": 16,
   "id": "c74ab95c",
   "metadata": {
    "execution": {
     "iopub.execute_input": "2025-10-08T00:52:16.819649Z",
     "iopub.status.busy": "2025-10-08T00:52:16.819317Z",
     "iopub.status.idle": "2025-10-08T00:52:16.825934Z",
     "shell.execute_reply": "2025-10-08T00:52:16.824909Z"
    },
    "papermill": {
     "duration": 0.015246,
     "end_time": "2025-10-08T00:52:16.827516",
     "exception": false,
     "start_time": "2025-10-08T00:52:16.812270",
     "status": "completed"
    },
    "tags": []
   },
   "outputs": [],
   "source": [
    "train_clean['Embarked'] = train_clean['Embarked'].fillna(train_clean['Embarked'].mode())"
   ]
  },
  {
   "cell_type": "code",
   "execution_count": 17,
   "id": "f56d2565",
   "metadata": {
    "execution": {
     "iopub.execute_input": "2025-10-08T00:52:16.840456Z",
     "iopub.status.busy": "2025-10-08T00:52:16.840131Z",
     "iopub.status.idle": "2025-10-08T00:52:16.854191Z",
     "shell.execute_reply": "2025-10-08T00:52:16.853204Z"
    },
    "papermill": {
     "duration": 0.022832,
     "end_time": "2025-10-08T00:52:16.856198",
     "exception": false,
     "start_time": "2025-10-08T00:52:16.833366",
     "status": "completed"
    },
    "tags": []
   },
   "outputs": [],
   "source": [
    "rotulos = ['0 - 16', '16 - 32', '32 - 48', '48 - 64', '64 - 80']\n",
    "test_clean.loc[:,'intervalo_idades'] = pd.cut(test_clean['Age'], bins = 5, labels=rotulos)"
   ]
  },
  {
   "cell_type": "code",
   "execution_count": 18,
   "id": "e0c4f93b",
   "metadata": {
    "execution": {
     "iopub.execute_input": "2025-10-08T00:52:16.869669Z",
     "iopub.status.busy": "2025-10-08T00:52:16.869369Z",
     "iopub.status.idle": "2025-10-08T00:52:16.893108Z",
     "shell.execute_reply": "2025-10-08T00:52:16.892151Z"
    },
    "papermill": {
     "duration": 0.032812,
     "end_time": "2025-10-08T00:52:16.894901",
     "exception": false,
     "start_time": "2025-10-08T00:52:16.862089",
     "status": "completed"
    },
    "tags": []
   },
   "outputs": [],
   "source": [
    "test_clean.loc[:,'Tarifas'] = pd.qcut(test_clean['Fare'], q = 6)"
   ]
  },
  {
   "cell_type": "code",
   "execution_count": 19,
   "id": "c204fb51",
   "metadata": {
    "execution": {
     "iopub.execute_input": "2025-10-08T00:52:16.907808Z",
     "iopub.status.busy": "2025-10-08T00:52:16.907466Z",
     "iopub.status.idle": "2025-10-08T00:52:16.915191Z",
     "shell.execute_reply": "2025-10-08T00:52:16.914235Z"
    },
    "papermill": {
     "duration": 0.016019,
     "end_time": "2025-10-08T00:52:16.916695",
     "exception": false,
     "start_time": "2025-10-08T00:52:16.900676",
     "status": "completed"
    },
    "tags": []
   },
   "outputs": [],
   "source": [
    "rotulos = ['0 - 16', '16 - 32', '32 - 48', '48 - 64', '64 - 80']\n",
    "train_clean.loc[:,'intervalo_idades'] = pd.cut(train_clean['Age'], bins = 5, labels=rotulos)"
   ]
  },
  {
   "cell_type": "code",
   "execution_count": 20,
   "id": "4048276c",
   "metadata": {
    "execution": {
     "iopub.execute_input": "2025-10-08T00:52:16.929822Z",
     "iopub.status.busy": "2025-10-08T00:52:16.929512Z",
     "iopub.status.idle": "2025-10-08T00:52:16.938308Z",
     "shell.execute_reply": "2025-10-08T00:52:16.937329Z"
    },
    "papermill": {
     "duration": 0.01738,
     "end_time": "2025-10-08T00:52:16.940018",
     "exception": false,
     "start_time": "2025-10-08T00:52:16.922638",
     "status": "completed"
    },
    "tags": []
   },
   "outputs": [],
   "source": [
    "train_clean.loc[:,'Tarifas'] = pd.qcut(train_clean['Fare'], q = 6)"
   ]
  },
  {
   "cell_type": "code",
   "execution_count": 21,
   "id": "96f87f8d",
   "metadata": {
    "execution": {
     "iopub.execute_input": "2025-10-08T00:52:16.952566Z",
     "iopub.status.busy": "2025-10-08T00:52:16.952293Z",
     "iopub.status.idle": "2025-10-08T00:52:16.966337Z",
     "shell.execute_reply": "2025-10-08T00:52:16.965299Z"
    },
    "papermill": {
     "duration": 0.021989,
     "end_time": "2025-10-08T00:52:16.967768",
     "exception": false,
     "start_time": "2025-10-08T00:52:16.945779",
     "status": "completed"
    },
    "tags": []
   },
   "outputs": [
    {
     "name": "stdout",
     "output_type": "stream",
     "text": [
      "<class 'pandas.core.frame.DataFrame'>\n",
      "Index: 889 entries, 0 to 890\n",
      "Data columns (total 12 columns):\n",
      " #   Column            Non-Null Count  Dtype   \n",
      "---  ------            --------------  -----   \n",
      " 0   PassengerId       889 non-null    int64   \n",
      " 1   Survived          889 non-null    int64   \n",
      " 2   Pclass            889 non-null    int64   \n",
      " 3   Name              889 non-null    object  \n",
      " 4   Sex               889 non-null    object  \n",
      " 5   Age               889 non-null    float64 \n",
      " 6   SibSp             889 non-null    int64   \n",
      " 7   Parch             889 non-null    int64   \n",
      " 8   Fare              889 non-null    float64 \n",
      " 9   Embarked          889 non-null    object  \n",
      " 10  intervalo_idades  889 non-null    category\n",
      " 11  Tarifas           889 non-null    category\n",
      "dtypes: category(2), float64(2), int64(5), object(3)\n",
      "memory usage: 78.6+ KB\n"
     ]
    }
   ],
   "source": [
    "train_clean.info()"
   ]
  },
  {
   "cell_type": "code",
   "execution_count": 22,
   "id": "7b30a60b",
   "metadata": {
    "execution": {
     "iopub.execute_input": "2025-10-08T00:52:16.981133Z",
     "iopub.status.busy": "2025-10-08T00:52:16.980777Z",
     "iopub.status.idle": "2025-10-08T00:52:16.994007Z",
     "shell.execute_reply": "2025-10-08T00:52:16.992811Z"
    },
    "papermill": {
     "duration": 0.021639,
     "end_time": "2025-10-08T00:52:16.995700",
     "exception": false,
     "start_time": "2025-10-08T00:52:16.974061",
     "status": "completed"
    },
    "tags": []
   },
   "outputs": [
    {
     "name": "stdout",
     "output_type": "stream",
     "text": [
      "<class 'pandas.core.frame.DataFrame'>\n",
      "RangeIndex: 418 entries, 0 to 417\n",
      "Data columns (total 11 columns):\n",
      " #   Column            Non-Null Count  Dtype   \n",
      "---  ------            --------------  -----   \n",
      " 0   PassengerId       418 non-null    int64   \n",
      " 1   Pclass            418 non-null    int64   \n",
      " 2   Name              418 non-null    object  \n",
      " 3   Sex               418 non-null    object  \n",
      " 4   Age               418 non-null    float64 \n",
      " 5   SibSp             418 non-null    int64   \n",
      " 6   Parch             418 non-null    int64   \n",
      " 7   Fare              418 non-null    float64 \n",
      " 8   Embarked          418 non-null    object  \n",
      " 9   intervalo_idades  418 non-null    category\n",
      " 10  Tarifas           418 non-null    category\n",
      "dtypes: category(2), float64(2), int64(4), object(3)\n",
      "memory usage: 30.8+ KB\n"
     ]
    }
   ],
   "source": [
    "test_clean.info()"
   ]
  },
  {
   "cell_type": "code",
   "execution_count": 23,
   "id": "43576919",
   "metadata": {
    "execution": {
     "iopub.execute_input": "2025-10-08T00:52:17.009012Z",
     "iopub.status.busy": "2025-10-08T00:52:17.008635Z",
     "iopub.status.idle": "2025-10-08T00:52:17.300028Z",
     "shell.execute_reply": "2025-10-08T00:52:17.299099Z"
    },
    "papermill": {
     "duration": 0.300165,
     "end_time": "2025-10-08T00:52:17.301937",
     "exception": false,
     "start_time": "2025-10-08T00:52:17.001772",
     "status": "completed"
    },
    "tags": []
   },
   "outputs": [],
   "source": [
    "from sklearn.preprocessing import LabelEncoder\n",
    "\n",
    "def label_encoder(DataFrame, coluna, nova_coluna):    \n",
    "    le = LabelEncoder()\n",
    "    DataFrame[nova_coluna] = le.fit_transform(DataFrame[coluna])\n",
    "    return DataFrame"
   ]
  },
  {
   "cell_type": "code",
   "execution_count": 24,
   "id": "b8955656",
   "metadata": {
    "execution": {
     "iopub.execute_input": "2025-10-08T00:52:17.316602Z",
     "iopub.status.busy": "2025-10-08T00:52:17.316311Z",
     "iopub.status.idle": "2025-10-08T00:52:17.321994Z",
     "shell.execute_reply": "2025-10-08T00:52:17.321117Z"
    },
    "papermill": {
     "duration": 0.014939,
     "end_time": "2025-10-08T00:52:17.323509",
     "exception": false,
     "start_time": "2025-10-08T00:52:17.308570",
     "status": "completed"
    },
    "tags": []
   },
   "outputs": [],
   "source": [
    "from sklearn.preprocessing import OneHotEncoder\n",
    "\n",
    "def one_hot_encoder(DataFrame, Coluna):\n",
    "    encoder_coluna = OneHotEncoder(sparse_output=False, handle_unknown='ignore')\n",
    "    encoded_coluna = encoder_coluna.fit_transform(DataFrame[[Coluna]])\n",
    "    cols = encoder_coluna.get_feature_names_out([Coluna])\n",
    "    DataFrame = pd.concat(\n",
    "        [DataFrame.drop(columns=[Coluna]),\n",
    "        pd.DataFrame(encoded_coluna, columns=cols, index=DataFrame.index)],\n",
    "        axis=1\n",
    "    )\n",
    "    return DataFrame"
   ]
  },
  {
   "cell_type": "code",
   "execution_count": 25,
   "id": "b3535496",
   "metadata": {
    "execution": {
     "iopub.execute_input": "2025-10-08T00:52:17.336859Z",
     "iopub.status.busy": "2025-10-08T00:52:17.336517Z",
     "iopub.status.idle": "2025-10-08T00:52:17.351517Z",
     "shell.execute_reply": "2025-10-08T00:52:17.350559Z"
    },
    "papermill": {
     "duration": 0.023322,
     "end_time": "2025-10-08T00:52:17.353055",
     "exception": false,
     "start_time": "2025-10-08T00:52:17.329733",
     "status": "completed"
    },
    "tags": []
   },
   "outputs": [],
   "source": [
    "train_clean = label_encoder(train_clean, 'Pclass', 'pclass_encoded')\n",
    "train_clean = label_encoder(train_clean, 'intervalo_idades', 'intervalo_idade_encoded')\n",
    "train_clean = label_encoder(train_clean, 'Tarifas', 'tarifas_encoded')\n",
    "\n",
    "test_clean = label_encoder(test_clean, 'Pclass', 'pclass_encoded')\n",
    "test_clean = label_encoder(test_clean, 'intervalo_idades', 'intervalo_idade_encoded')\n",
    "test_clean = label_encoder(test_clean, 'Tarifas', 'tarifas_encoded')\n",
    "\n"
   ]
  },
  {
   "cell_type": "code",
   "execution_count": 26,
   "id": "1d0fc5a7",
   "metadata": {
    "execution": {
     "iopub.execute_input": "2025-10-08T00:52:17.366439Z",
     "iopub.status.busy": "2025-10-08T00:52:17.366154Z",
     "iopub.status.idle": "2025-10-08T00:52:17.388168Z",
     "shell.execute_reply": "2025-10-08T00:52:17.387182Z"
    },
    "papermill": {
     "duration": 0.030677,
     "end_time": "2025-10-08T00:52:17.389876",
     "exception": false,
     "start_time": "2025-10-08T00:52:17.359199",
     "status": "completed"
    },
    "tags": []
   },
   "outputs": [],
   "source": [
    "train_clean = one_hot_encoder(train_clean, 'Sex')\n",
    "train_clean = one_hot_encoder(train_clean, 'Embarked')\n",
    "\n",
    "test_clean = one_hot_encoder(test_clean, 'Sex')\n",
    "test_clean = one_hot_encoder(test_clean, 'Embarked')"
   ]
  },
  {
   "cell_type": "code",
   "execution_count": 27,
   "id": "2046767b",
   "metadata": {
    "execution": {
     "iopub.execute_input": "2025-10-08T00:52:17.403537Z",
     "iopub.status.busy": "2025-10-08T00:52:17.403210Z",
     "iopub.status.idle": "2025-10-08T00:52:17.409564Z",
     "shell.execute_reply": "2025-10-08T00:52:17.408734Z"
    },
    "papermill": {
     "duration": 0.015259,
     "end_time": "2025-10-08T00:52:17.411174",
     "exception": false,
     "start_time": "2025-10-08T00:52:17.395915",
     "status": "completed"
    },
    "tags": []
   },
   "outputs": [],
   "source": [
    "train_clean = train_clean.drop(columns=['intervalo_idades', 'Tarifas','Name'])"
   ]
  },
  {
   "cell_type": "code",
   "execution_count": 28,
   "id": "aff90a65",
   "metadata": {
    "execution": {
     "iopub.execute_input": "2025-10-08T00:52:17.424396Z",
     "iopub.status.busy": "2025-10-08T00:52:17.424099Z",
     "iopub.status.idle": "2025-10-08T00:52:17.430466Z",
     "shell.execute_reply": "2025-10-08T00:52:17.429368Z"
    },
    "papermill": {
     "duration": 0.015404,
     "end_time": "2025-10-08T00:52:17.432766",
     "exception": false,
     "start_time": "2025-10-08T00:52:17.417362",
     "status": "completed"
    },
    "tags": []
   },
   "outputs": [],
   "source": [
    "test_clean = test_clean.drop(columns=['intervalo_idades', 'Tarifas','Name'])"
   ]
  },
  {
   "cell_type": "code",
   "execution_count": 29,
   "id": "16c40bf9",
   "metadata": {
    "execution": {
     "iopub.execute_input": "2025-10-08T00:52:17.446034Z",
     "iopub.status.busy": "2025-10-08T00:52:17.445629Z",
     "iopub.status.idle": "2025-10-08T00:52:18.202841Z",
     "shell.execute_reply": "2025-10-08T00:52:18.201665Z"
    },
    "papermill": {
     "duration": 0.766084,
     "end_time": "2025-10-08T00:52:18.204728",
     "exception": false,
     "start_time": "2025-10-08T00:52:17.438644",
     "status": "completed"
    },
    "tags": []
   },
   "outputs": [
    {
     "name": "stdout",
     "output_type": "stream",
     "text": [
      "A Acurácia é de 0.8034\n"
     ]
    }
   ],
   "source": [
    "from sklearn.model_selection import train_test_split\n",
    "from sklearn.ensemble import RandomForestClassifier\n",
    "from sklearn.metrics import accuracy_score\n",
    "\n",
    "x = train_clean.drop(columns=['PassengerId', 'Survived'])\n",
    "y = train_clean['Survived']\n",
    "\n",
    "x_train, x_valid, y_train, y_valid = train_test_split(x, y, test_size=0.2)\n",
    "\n",
    "model = RandomForestClassifier(n_estimators=100, random_state=42)\n",
    "model.fit(x_train, y_train)\n",
    "y_pred = model.predict(x_valid)\n",
    "\n",
    "acuracia = accuracy_score(y_valid, y_pred)\n",
    "print(f'A Acurácia é de {acuracia :.4f}')"
   ]
  },
  {
   "cell_type": "code",
   "execution_count": 30,
   "id": "8b9f1ad7",
   "metadata": {
    "execution": {
     "iopub.execute_input": "2025-10-08T00:52:18.218015Z",
     "iopub.status.busy": "2025-10-08T00:52:18.217669Z",
     "iopub.status.idle": "2025-10-08T00:52:18.441292Z",
     "shell.execute_reply": "2025-10-08T00:52:18.440149Z"
    },
    "papermill": {
     "duration": 0.232442,
     "end_time": "2025-10-08T00:52:18.443169",
     "exception": false,
     "start_time": "2025-10-08T00:52:18.210727",
     "status": "completed"
    },
    "tags": []
   },
   "outputs": [],
   "source": [
    "x_train_full = train_clean.drop(columns=['PassengerId', 'Survived'])\n",
    "y_train_full = train_clean['Survived']\n",
    "\n",
    "x_test = test_clean.drop(columns='PassengerId')\n",
    "\n",
    "model = RandomForestClassifier(n_estimators=100, random_state=42)\n",
    "model.fit(x_train_full, y_train_full)\n",
    "y_pred = model.predict(x_test)\n",
    "\n",
    "submission = pd.DataFrame({\n",
    "    'PassengerId': test_clean['PassengerId'],\n",
    "    'Survived' : y_pred\n",
    "})\n",
    "\n",
    "submission.to_csv('submission.csv', index='False')"
   ]
  }
 ],
 "metadata": {
  "kaggle": {
   "accelerator": "none",
   "dataSources": [
    {
     "databundleVersionId": 26502,
     "sourceId": 3136,
     "sourceType": "competition"
    }
   ],
   "dockerImageVersionId": 31089,
   "isGpuEnabled": false,
   "isInternetEnabled": true,
   "language": "python",
   "sourceType": "notebook"
  },
  "kernelspec": {
   "display_name": "Python 3",
   "language": "python",
   "name": "python3"
  },
  "language_info": {
   "codemirror_mode": {
    "name": "ipython",
    "version": 3
   },
   "file_extension": ".py",
   "mimetype": "text/x-python",
   "name": "python",
   "nbconvert_exporter": "python",
   "pygments_lexer": "ipython3",
   "version": "3.11.13"
  },
  "papermill": {
   "default_parameters": {},
   "duration": 12.896144,
   "end_time": "2025-10-08T00:52:19.172251",
   "environment_variables": {},
   "exception": null,
   "input_path": "__notebook__.ipynb",
   "output_path": "__notebook__.ipynb",
   "parameters": {},
   "start_time": "2025-10-08T00:52:06.276107",
   "version": "2.6.0"
  }
 },
 "nbformat": 4,
 "nbformat_minor": 5
}
